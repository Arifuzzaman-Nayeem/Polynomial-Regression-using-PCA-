{
 "cells": [
  {
   "cell_type": "code",
   "execution_count": 22,
   "id": "21ac4531",
   "metadata": {},
   "outputs": [],
   "source": [
    "import pandas as pd \n",
    "import numpy as np\n",
    "import seaborn as sns \n",
    "import matplotlib.pyplot as plt\n",
    "from sklearn.preprocessing import StandardScaler,PolynomialFeatures\n",
    "from sklearn.decomposition import PCA\n",
    "from sklearn.linear_model import LinearRegression\n",
    "from sklearn.metrics import r2_score,mean_squared_error\n",
    "from sklearn.pipeline import Pipeline"
   ]
  },
  {
   "cell_type": "code",
   "execution_count": 23,
   "id": "2ac85a62",
   "metadata": {},
   "outputs": [
    {
     "data": {
      "text/plain": [
       "Index(['Age', 'Height', 'Weight'], dtype='object')"
      ]
     },
     "execution_count": 23,
     "metadata": {},
     "output_type": "execute_result"
    }
   ],
   "source": [
    "df = pd.read_csv(\"person_data.csv\")\n",
    "df.columns"
   ]
  },
  {
   "cell_type": "code",
   "execution_count": 24,
   "id": "4d49c68e",
   "metadata": {},
   "outputs": [],
   "source": [
    "feature_ = df[['Age', 'Height']]\n",
    "target_ = df['Weight']"
   ]
  },
  {
   "cell_type": "code",
   "execution_count": 48,
   "id": "01c4e960",
   "metadata": {},
   "outputs": [
    {
     "data": {
      "text/plain": [
       "<AxesSubplot:xlabel='Age', ylabel='Height'>"
      ]
     },
     "execution_count": 48,
     "metadata": {},
     "output_type": "execute_result"
    },
    {
     "data": {
      "image/png": "[encoded data removed]",
      "text/plain": [
       "<Figure size 432x288 with 1 Axes>"
      ]
     },
     "metadata": {
      "needs_background": "light"
     },
     "output_type": "display_data"
    }
   ],
   "source": [
    "sns.scatterplot(x ='Age', y ='Height', data = df)"
   ]
  },
  {
   "cell_type": "code",
   "execution_count": 49,
   "id": "85f7987b",
   "metadata": {},
   "outputs": [],
   "source": [
    "StdSC = StandardScaler()\n",
    "pca = PCA(n_components=1)\n",
    "poly_feature = PolynomialFeatures(degree= 4)\n",
    "rgr = LinearRegression()"
   ]
  },
  {
   "cell_type": "code",
   "execution_count": 52,
   "id": "f62cd724",
   "metadata": {},
   "outputs": [
    {
     "data": {
      "text/plain": [
       "array([97.36416205])"
      ]
     },
     "execution_count": 52,
     "metadata": {},
     "output_type": "execute_result"
    }
   ],
   "source": [
    "pca.fit_transform(StdSC.fit_transform(feature_))\n",
    "pca.explained_variance_ratio_ *100"
   ]
  },
  {
   "cell_type": "code",
   "execution_count": 50,
   "id": "546b2305",
   "metadata": {},
   "outputs": [],
   "source": [
    "poly_model = Pipeline  ([ ('Standar scaler', StdSC), \n",
    "                         ('PCA', pca), \n",
    "                         ('Poly transform', poly_feature), \n",
    "                         ('Regression', rgr) \n",
    "                        ])"
   ]
  },
  {
   "cell_type": "code",
   "execution_count": 44,
   "id": "47dcf8ac",
   "metadata": {},
   "outputs": [
    {
     "name": "stdout",
     "output_type": "stream",
     "text": [
      "0.9017224665462797 5.526039114479491\n"
     ]
    }
   ],
   "source": [
    "poly_model.fit(feature_, target_)\n",
    "pred_ = poly_model.predict(feature_)\n",
    "RSq = r2_score(target_,pred_)\n",
    "RMSE = np.sqrt(mean_squared_error(target_,pred_))\n",
    "print (RSq,RMSE)"
   ]
  },
  {
   "cell_type": "code",
   "execution_count": 47,
   "id": "67e00ce2",
   "metadata": {},
   "outputs": [
    {
     "data": {
      "text/plain": [
       "<function matplotlib.pyplot.show(close=None, block=None)>"
      ]
     },
     "execution_count": 47,
     "metadata": {},
     "output_type": "execute_result"
    },
    {
     "data": {
      "image/png": "[encoded data removed]",
      "text/plain": [
       "<Figure size 432x288 with 1 Axes>"
      ]
     },
     "metadata": {
      "needs_background": "light"
     },
     "output_type": "display_data"
    }
   ],
   "source": [
    "plt.scatter(target_,pred_)\n",
    "plt.plot([0,100],[0,100],'g')\n",
    "plt.xlabel('Observed data')\n",
    "plt.ylabel('Predicted data')\n",
    "plt.show"
   ]
  },
  {
   "cell_type": "code",
   "execution_count": 35,
   "id": "30329883",
   "metadata": {},
   "outputs": [],
   "source": []
  },
  {
   "cell_type": "code",
   "execution_count": null,
   "id": "ad1ad1f1",
   "metadata": {},
   "outputs": [],
   "source": []
  },
  {
   "cell_type": "code",
   "execution_count": null,
   "id": "9d4a6cbe",
   "metadata": {},
   "outputs": [],
   "source": []
  },
  {
   "cell_type": "code",
   "execution_count": null,
   "id": "527c4ff7",
   "metadata": {},
   "outputs": [],
   "source": []
  },
  {
   "cell_type": "code",
   "execution_count": null,
   "id": "e11490b6",
   "metadata": {},
   "outputs": [],
   "source": [
    "\n"
   ]
  },
  {
   "cell_type": "code",
   "execution_count": null,
   "id": "61e1fac8",
   "metadata": {},
   "outputs": [],
   "source": []
  },
  {
   "cell_type": "code",
   "execution_count": null,
   "id": "dd680d26",
   "metadata": {},
   "outputs": [],
   "source": []
  },
  {
   "cell_type": "code",
   "execution_count": null,
   "id": "17b25840",
   "metadata": {},
   "outputs": [],
   "source": []
  }
 ],
 "metadata": {
  "kernelspec": {
   "display_name": "Python 3",
   "language": "python",
   "name": "python3"
  },
  "language_info": {
   "codemirror_mode": {
    "name": "ipython",
    "version": 3
   },
   "file_extension": ".py",
   "mimetype": "text/x-python",
   "name": "python",
   "nbconvert_exporter": "python",
   "pygments_lexer": "ipython3",
   "version": "3.8.8"
  }
 },
 "nbformat": 4,
 "nbformat_minor": 5
}
